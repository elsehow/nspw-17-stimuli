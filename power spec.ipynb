{
 "cells": [
  {
   "cell_type": "code",
   "execution_count": 1,
   "metadata": {
    "collapsed": false,
    "deletable": true,
    "editable": true
   },
   "outputs": [
    {
     "name": "stdout",
     "output_type": "stream",
     "text": [
      "Populating the interactive namespace from numpy and matplotlib\n"
     ]
    }
   ],
   "source": [
    "# wavio.py\n",
    "# Author: Warren Weckesser\n",
    "# License: BSD 3-Clause (http://opensource.org/licenses/BSD-3-Clause)\n",
    "\n",
    "import wave\n",
    "% pylab inline\n",
    "\n",
    "\n",
    "def _wav2array(nchannels, sampwidth, data):\n",
    "    \"\"\"data must be the string containing the bytes from the wav file.\"\"\"\n",
    "    num_samples, remainder = divmod(len(data), sampwidth * nchannels)\n",
    "    if remainder > 0:\n",
    "        raise ValueError('The length of data is not a multiple of '\n",
    "                         'sampwidth * num_channels.')\n",
    "    if sampwidth > 4:\n",
    "        raise ValueError(\"sampwidth must not be greater than 4.\")\n",
    "\n",
    "    if sampwidth == 3:\n",
    "        a = np.empty((num_samples, nchannels, 4), dtype=np.uint8)\n",
    "        raw_bytes = np.fromstring(data, dtype=np.uint8)\n",
    "        a[:, :, :sampwidth] = raw_bytes.reshape(-1, nchannels, sampwidth)\n",
    "        a[:, :, sampwidth:] = (a[:, :, sampwidth - 1:sampwidth] >> 7) * 255\n",
    "        result = a.view('<i4').reshape(a.shape[:-1])\n",
    "    else:\n",
    "        # 8 bit samples are stored as unsigned ints; others as signed ints.\n",
    "        dt_char = 'u' if sampwidth == 1 else 'i'\n",
    "        a = np.fromstring(data, dtype='<%s%d' % (dt_char, sampwidth))\n",
    "        result = a.reshape(-1, nchannels)\n",
    "    return result\n",
    "\n",
    "\n",
    "def readwav(file):\n",
    "    \"\"\"\n",
    "    Read a wav file.\n",
    "    Returns the frame rate, sample width (in bytes) and a numpy array\n",
    "    containing the data.\n",
    "    This function does not read compressed wav files.\n",
    "    \"\"\"\n",
    "    wav = wave.open(file)\n",
    "    rate = wav.getframerate()\n",
    "    nchannels = wav.getnchannels()\n",
    "    sampwidth = wav.getsampwidth()\n",
    "    nframes = wav.getnframes()\n",
    "    data = wav.readframes(nframes)\n",
    "    wav.close()\n",
    "    array = _wav2array(nchannels, sampwidth, data)\n",
    "    return rate, sampwidth, array\n",
    "\n",
    "\n",
    "def writewav24(filename, rate, data):\n",
    "    \"\"\"Create a 24 bit wav file.\n",
    "    data must be \"array-like\", either 1- or 2-dimensional.  If it is 2-d,\n",
    "    the rows are the frames (i.e. samples) and the columns are the channels.\n",
    "    The data is assumed to be signed, and the values are assumed to be\n",
    "    within the range of a 24 bit integer.  Floating point values are\n",
    "    converted to integers.  The data is not rescaled or normalized before\n",
    "    writing it to the file.\n",
    "    Example: Create a 3 second 440 Hz sine wave.\n",
    "    >>> rate = 22050  # samples per second\n",
    "    >>> T = 3         # sample duration (seconds)\n",
    "    >>> f = 440.0     # sound frequency (Hz)\n",
    "    >>> t = np.linspace(0, T, T*rate, endpoint=False)\n",
    "    >>> x = (2**23 - 1) * np.sin(2 * np.pi * f * t)\n",
    "    >>> writewav24(\"sine24.wav\", rate, x)\n",
    "    \"\"\"\n",
    "    a32 = np.asarray(data, dtype=np.int32)\n",
    "    if a32.ndim == 1:\n",
    "        # Convert to a 2D array with a single column.\n",
    "        a32.shape = a32.shape + (1,)\n",
    "    # By shifting first 0 bits, then 8, then 16, the resulting output\n",
    "    # is 24 bit little-endian.\n",
    "    a8 = (a32.reshape(a32.shape + (1,)) >> np.array([0, 8, 16])) & 255\n",
    "    wavdata = a8.astype(np.uint8).tostring()\n",
    "\n",
    "    w = wave.open(filename, 'wb')\n",
    "    w.setnchannels(a32.shape[1])\n",
    "    w.setsampwidth(3)\n",
    "    w.setframerate(rate)\n",
    "    w.writeframes(wavdata)\n",
    "    w.close()"
   ]
  },
  {
   "cell_type": "code",
   "execution_count": 24,
   "metadata": {
    "collapsed": false,
    "deletable": true,
    "editable": true
   },
   "outputs": [
    {
     "name": "stdout",
     "output_type": "stream",
     "text": [
      "48000 3\n"
     ]
    },
    {
     "data": {
      "image/png": "[encoded data removed]",
      "text/plain": [
       "<matplotlib.figure.Figure at 0x126832da0>"
      ]
     },
     "metadata": {},
     "output_type": "display_data"
    }
   ],
   "source": [
    "from scipy.fftpack import fft\n",
    "\n",
    "def find_peak (path):\n",
    "    rate, sampwidth, data = readwav(path)\n",
    "    print(rate, sampwidth)\n",
    "    a = data.T[0] # this is a two channel soundtrack, I get the first track\n",
    "    half_sec = a[:rate//2] # first half second\n",
    "    # b=[(ele/2**8.)*2-1 for ele in a] # this is 8-bit track, b is now normalized on [-1,1)\n",
    "    c = fft(half_sec) # calculate fourier transform (complex numbers list)\n",
    "    d = len(c)/2  # you only need half of the fft list (real signal symmetry)\n",
    "    plt.xlim((0,100))\n",
    "    plot(abs(c[:int(d-1)]))\n",
    "\n",
    "\n",
    "find_peak('stimuli/ASSRStim.wav')\n",
    "#find_peak('stimuli/ASSR_20sec.wav')"
   ]
  }
 ],
 "metadata": {
  "kernelspec": {
   "display_name": "Python 3",
   "language": "python",
   "name": "python3"
  },
  "language_info": {
   "codemirror_mode": {
    "name": "ipython",
    "version": 3
   },
   "file_extension": ".py",
   "mimetype": "text/x-python",
   "name": "python",
   "nbconvert_exporter": "python",
   "pygments_lexer": "ipython3",
   "version": "3.6.0"
  }
 },
 "nbformat": 4,
 "nbformat_minor": 2
}
